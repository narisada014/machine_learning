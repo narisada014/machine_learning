{
 "cells": [
  {
   "cell_type": "code",
   "execution_count": 5,
   "metadata": {},
   "outputs": [
    {
     "name": "stdout",
     "output_type": "stream",
     "text": [
      "{'status': 'optimal', 'x': <2x1 matrix, tc='d'>, 'y': <0x1 matrix, tc='d'>, 'z': <0x1 matrix, tc='d'>, 's': <0x1 matrix, tc='d'>, 'gap': 0.0, 'relgap': 0.0, 'primal objective': -4.0, 'dual objective': -4.0, 'primal slack': 0.0, 'dual slack': 0.0, 'primal infeasibility': 0.0, 'dual infeasibility': 1.9860273225978183e-16, 'iterations': 0}\n",
      "[[ 1.57009246e-16]\n",
      " [-2.00000000e+00]]\n",
      "-4.0\n"
     ]
    }
   ],
   "source": [
    "import numpy as np\n",
    "import cvxopt\n",
    "\n",
    "P = cvxopt.matrix(np.array([[2,1], [1, 2]], dtype=np.float64))\n",
    "q = cvxopt.matrix(np.array([2, 4], dtype=np.float64))\n",
    "\n",
    "sol = cvxopt.solvers.qp(P, q)\n",
    "\n",
    "print(sol)\n",
    "# 最適解\n",
    "print(np.array(sol[\"x\"]))\n",
    "# 最適解の時の目的関数の値\n",
    "print(np.array(sol[\"primal objective\"]))"
   ]
  },
  {
   "cell_type": "code",
   "execution_count": 8,
   "metadata": {},
   "outputs": [
    {
     "name": "stdout",
     "output_type": "stream",
     "text": [
      "[ 1.00e+00  1.00e+00]\n",
      "\n",
      "[ 0.00e+00]\n",
      "\n",
      "{'status': 'optimal', 'x': <2x1 matrix, tc='d'>, 'y': <1x1 matrix, tc='d'>, 'z': <0x1 matrix, tc='d'>, 's': <0x1 matrix, tc='d'>, 'gap': 0.0, 'relgap': 0.0, 'primal objective': -1.0000000000000013, 'dual objective': -1.0000000000000013, 'primal slack': 0.0, 'dual slack': 0.0, 'primal infeasibility': 4.440892098500626e-16, 'dual infeasibility': 9.930136612989092e-17, 'iterations': 0}\n",
      "[[ 1.]\n",
      " [-1.]]\n",
      "-1.0000000000000013\n"
     ]
    }
   ],
   "source": [
    "import numpy as np\n",
    "import cvxopt\n",
    "\n",
    "P = cvxopt.matrix(np.array([[2,1], [1, 2]], dtype=np.float64))\n",
    "q = cvxopt.matrix(np.array([2, 4], dtype=np.float64))\n",
    "A = cvxopt.matrix(np.array([[1, 1]], dtype=np.float64))\n",
    "b = cvxopt.matrix(np.array([0], dtype=np.float64))\n",
    "\n",
    "sol = cvxopt.solvers.qp(P, q, A=A, b=b)\n",
    "\n",
    "print(A)\n",
    "print(b)\n",
    "print(sol)\n",
    "# 最適解\n",
    "print(np.array(sol[\"x\"]))\n",
    "# 最適解の時の目的関数の値\n",
    "print(np.array(sol[\"primal objective\"]))"
   ]
  },
  {
   "cell_type": "code",
   "execution_count": 9,
   "metadata": {},
   "outputs": [
    {
     "name": "stdout",
     "output_type": "stream",
     "text": [
      "     pcost       dcost       gap    pres   dres\n",
      " 0:  1.8858e+00  2.9758e-01  2e+00  0e+00  2e+00\n",
      " 1: -2.1066e+00 -2.1546e+00  5e-02  2e-16  7e-01\n",
      " 2: -3.9999e+00 -4.0665e+00  7e-02  6e-16  8e-17\n",
      " 3: -4.0000e+00 -4.0007e+00  7e-04  9e-16  1e-16\n",
      " 4: -4.0000e+00 -4.0000e+00  7e-06  3e-16  6e-17\n",
      " 5: -4.0000e+00 -4.0000e+00  7e-08  3e-16  2e-16\n",
      "Optimal solution found.\n",
      "{'x': <2x1 matrix, tc='d'>, 'y': <0x1 matrix, tc='d'>, 's': <1x1 matrix, tc='d'>, 'z': <1x1 matrix, tc='d'>, 'status': 'optimal', 'gap': 6.640383992941244e-08, 'relative gap': 1.660095998235311e-08, 'primal objective': -4.0, 'dual objective': -4.00000006640384, 'primal infeasibility': 2.9605947323337506e-16, 'dual infeasibility': 2.0202423019149744e-16, 'primal slack': 9.00000003443162, 'dual slack': 7.378204408374322e-09, 'iterations': 5}\n",
      "[[-2.45940165e-09]\n",
      " [-2.00000001e+00]]\n",
      "-4.0\n"
     ]
    }
   ],
   "source": [
    "import numpy as np\n",
    "import cvxopt\n",
    "\n",
    "P = cvxopt.matrix(np.array([[2,1], [1, 2]], dtype=np.float64))\n",
    "q = cvxopt.matrix(np.array([2, 4], dtype=np.float64))\n",
    "G = cvxopt.matrix(np.array([[2, 3]], dtype=np.float64))\n",
    "h = cvxopt.matrix(np.array([3], dtype=np.float64))\n",
    "\n",
    "sol = cvxopt.solvers.qp(P, q, G=G, h=h)\n",
    "\n",
    "print(sol)\n",
    "# 最適解\n",
    "print(np.array(sol[\"x\"]))\n",
    "# 最適解の時の目的関数の値\n",
    "print(np.array(sol[\"primal objective\"]))"
   ]
  },
  {
   "cell_type": "code",
   "execution_count": null,
   "metadata": {},
   "outputs": [],
   "source": []
  }
 ],
 "metadata": {
  "kernelspec": {
   "display_name": "Python 3",
   "language": "python",
   "name": "python3"
  },
  "language_info": {
   "codemirror_mode": {
    "name": "ipython",
    "version": 3
   },
   "file_extension": ".py",
   "mimetype": "text/x-python",
   "name": "python",
   "nbconvert_exporter": "python",
   "pygments_lexer": "ipython3",
   "version": "3.7.2"
  }
 },
 "nbformat": 4,
 "nbformat_minor": 2
}
